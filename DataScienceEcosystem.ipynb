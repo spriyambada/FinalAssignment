{
 "cells": [
  {
   "cell_type": "markdown",
   "id": "689244fd-60ca-43b6-93a2-bae6fa700e01",
   "metadata": {},
   "source": [
    "# Data Science Tools and Ecosystem"
   ]
  },
  {
   "cell_type": "markdown",
   "id": "c8e6f1f3-bb0d-4e1f-93ac-175a1725dcdb",
   "metadata": {},
   "source": [
    "In this notebook, Data Science Tools and Ecosystem are summarized."
   ]
  },
  {
   "cell_type": "markdown",
   "id": "4dcba8f1-0cbf-4a64-8297-b78f49477305",
   "metadata": {},
   "source": [
    "**Objectives:**\n",
    "- Learn popular languages for Data Science such as Python and R\n",
    "- Learn various Data Science Library\n",
    "- Learn Data Science Tools"
   ]
  },
  {
   "cell_type": "markdown",
   "id": "6eace358-4da7-45b6-8d64-f3b30d62c24a",
   "metadata": {
    "tags": []
   },
   "source": [
    "Some of the popular languages that Data Scientists use are:\n",
    "1. Python\n",
    "2. R\n",
    "3. SQL"
   ]
  },
  {
   "cell_type": "markdown",
   "id": "f153f188-d580-4d09-a14f-36d7ac16cc5a",
   "metadata": {},
   "source": [
    "Some of the commonly used libraries used by Data Scientists include:\n",
    "1. Pandas\n",
    "2. NumPy\n",
    "3. Matplotlib\n",
    "4. Scikit-learn\n",
    "5. Keras\n"
   ]
  },
  {
   "cell_type": "markdown",
   "id": "afeca621-49bb-4a61-a48f-11b1a34839f0",
   "metadata": {},
   "source": [
    "| Data Science Tools |\n",
    "| ------------------ |\n",
    "| Jupyter Notebook |\n",
    "| RStudio |\n",
    "| Git/GitHub |\n"
   ]
  },
  {
   "cell_type": "markdown",
   "id": "e9a1e03f-f97d-41b0-8150-fa277920203f",
   "metadata": {},
   "source": [
    "### Below are a few examples of evaluating arithmetic expressions in Python"
   ]
  },
  {
   "cell_type": "code",
   "execution_count": 3,
   "id": "2d79435e-dea3-4013-8992-a4083eaa6dad",
   "metadata": {
    "tags": []
   },
   "outputs": [
    {
     "data": {
      "text/plain": [
       "17"
      ]
     },
     "execution_count": 3,
     "metadata": {},
     "output_type": "execute_result"
    }
   ],
   "source": [
    "## This a simple arithmetic expression to mutiply then add integers\n",
    "(3*4)+5"
   ]
  },
  {
   "cell_type": "code",
   "execution_count": 2,
   "id": "6b99e168-1ed7-4377-b077-89b613729a41",
   "metadata": {
    "tags": []
   },
   "outputs": [
    {
     "name": "stdout",
     "output_type": "stream",
     "text": [
      "200 minutes = 3.3333333333333335  hours\n"
     ]
    }
   ],
   "source": [
    "## This will convert 200 minutes to hours by diving by 60\n",
    "x = 200/60\n",
    "print(\"200 minutes =\",x,\" hours\")"
   ]
  },
  {
   "cell_type": "markdown",
   "id": "7c3635a8-1342-4792-aee4-51458b0c4049",
   "metadata": {
    "tags": []
   },
   "source": [
    "## Author\n",
    "Satrio Adi Priyambada"
   ]
  },
  {
   "cell_type": "code",
   "execution_count": null,
   "id": "d7e0a8a0-32cb-4f08-a5ae-e857421585e1",
   "metadata": {},
   "outputs": [],
   "source": []
  }
 ],
 "metadata": {
  "kernelspec": {
   "display_name": "Python",
   "language": "python",
   "name": "conda-env-python-py"
  },
  "language_info": {
   "codemirror_mode": {
    "name": "ipython",
    "version": 3
   },
   "file_extension": ".py",
   "mimetype": "text/x-python",
   "name": "python",
   "nbconvert_exporter": "python",
   "pygments_lexer": "ipython3",
   "version": "3.7.12"
  }
 },
 "nbformat": 4,
 "nbformat_minor": 5
}
